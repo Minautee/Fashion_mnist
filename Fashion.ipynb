{
  "nbformat": 4,
  "nbformat_minor": 0,
  "metadata": {
    "colab": {
      "name": "Untitled1.ipynb",
      "provenance": [],
      "collapsed_sections": [],
      "authorship_tag": "ABX9TyOKjPb+iSi/mT9CvNErp2bn",
      "include_colab_link": true
    },
    "kernelspec": {
      "name": "python3",
      "display_name": "Python 3"
    }
  },
  "cells": [
    {
      "cell_type": "markdown",
      "metadata": {
        "id": "view-in-github",
        "colab_type": "text"
      },
      "source": [
        "<a href=\"https://colab.research.google.com/github/Minautee/Fashion_mnist/blob/main/Fashion.ipynb\" target=\"_parent\"><img src=\"https://colab.research.google.com/assets/colab-badge.svg\" alt=\"Open In Colab\"/></a>"
      ]
    },
    {
      "cell_type": "code",
      "metadata": {
        "colab": {
          "base_uri": "https://localhost:8080/"
        },
        "id": "dA2AWm7ATXcP",
        "outputId": "7579a24b-6801-404e-dece-37fb078aa7c6"
      },
      "source": [
        "from keras.datasets import fashion_mnist\n",
        "data = fashion_mnist.load_data()\n",
        "(X_train, Y_train), (X_test, Y_test) = fashion_mnist.load_data()\n",
        "X_train[0].shape\n",
        "X_train = X_train.reshape((X_train.shape[0], 28*28)).astype('float32')\n",
        "X_test = X_test.reshape((X_test.shape[0], 28*28)).astype('float32')\n",
        "\n",
        "X_train = X_train / 255\n",
        "X_test = X_test / 255\n",
        "\n",
        "from keras.utils import np_utils\n",
        "\n",
        "Y_train = np_utils.to_categorical(Y_train)\n",
        "Y_test = np_utils.to_categorical(Y_test)\n",
        "num_classes = Y_test.shape[1]\n",
        "\n",
        "from keras.models import Sequential\n",
        "from keras.layers import Dense\n",
        "from keras.layers import Dropout\n",
        "\n",
        "model = Sequential()\n",
        "model.add(Dense(12, input_dim = 28*28, activation = 'relu'))\n",
        "model.add(Dense(24, activation = 'relu'))\n",
        "model.add(Dense(36, activation = 'relu'))\n",
        "model.add(Dense(48, activation = 'relu'))\n",
        "model.add(Dense(60, activation = 'relu'))\n",
        "model.add(Dense(10, activation = 'softmax'))\n",
        "\n",
        "model.compile(loss='categorical_crossentropy', optimizer='adam', metrics=['accuracy'])\n",
        "\n",
        "model.fit(X_train, Y_train, validation_split=0.2 , epochs=10, batch_size=100)\n",
        "\n",
        "scores = model.evaluate(X_test, Y_test)\n",
        "print(scores) "
      ],
      "execution_count": null,
      "outputs": [
        {
          "output_type": "stream",
          "text": [
            "Epoch 1/10\n",
            "480/480 [==============================] - 2s 4ms/step - loss: 1.0967 - accuracy: 0.6024 - val_loss: 0.5414 - val_accuracy: 0.8062\n",
            "Epoch 2/10\n",
            "480/480 [==============================] - 1s 3ms/step - loss: 0.5127 - accuracy: 0.8201 - val_loss: 0.4972 - val_accuracy: 0.8229\n",
            "Epoch 3/10\n",
            "480/480 [==============================] - 2s 3ms/step - loss: 0.4553 - accuracy: 0.8390 - val_loss: 0.4536 - val_accuracy: 0.8346\n",
            "Epoch 4/10\n",
            "480/480 [==============================] - 2s 3ms/step - loss: 0.4223 - accuracy: 0.8489 - val_loss: 0.4300 - val_accuracy: 0.8427\n",
            "Epoch 5/10\n",
            "480/480 [==============================] - 2s 3ms/step - loss: 0.4081 - accuracy: 0.8524 - val_loss: 0.4232 - val_accuracy: 0.8451\n",
            "Epoch 6/10\n",
            "480/480 [==============================] - 2s 3ms/step - loss: 0.3837 - accuracy: 0.8633 - val_loss: 0.4036 - val_accuracy: 0.8554\n",
            "Epoch 7/10\n",
            "480/480 [==============================] - 2s 3ms/step - loss: 0.3693 - accuracy: 0.8650 - val_loss: 0.3861 - val_accuracy: 0.8640\n",
            "Epoch 8/10\n",
            "480/480 [==============================] - 2s 3ms/step - loss: 0.3512 - accuracy: 0.8717 - val_loss: 0.4068 - val_accuracy: 0.8496\n",
            "Epoch 9/10\n",
            "480/480 [==============================] - 2s 3ms/step - loss: 0.3488 - accuracy: 0.8737 - val_loss: 0.4116 - val_accuracy: 0.8533\n",
            "Epoch 10/10\n",
            "480/480 [==============================] - 2s 3ms/step - loss: 0.3419 - accuracy: 0.8763 - val_loss: 0.3963 - val_accuracy: 0.8573\n",
            "313/313 [==============================] - 1s 2ms/step - loss: 0.4121 - accuracy: 0.8530\n",
            "[0.4120834469795227, 0.8529999852180481]\n"
          ],
          "name": "stdout"
        }
      ]
    }
  ]
}